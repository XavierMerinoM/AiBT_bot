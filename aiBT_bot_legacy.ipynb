{
 "cells": [
  {
   "cell_type": "markdown",
   "metadata": {},
   "source": [
    "https://www.geeksforgeeks.org/openai-python-api/\n",
    "https://platform.openai.com/docs/guides/legacy-fine-tuning"
   ]
  },
  {
   "cell_type": "markdown",
   "metadata": {},
   "source": [
    "## 0. Install `openAI` library\n",
    "\n",
    "If needed, install `openAI` with `pip`:"
   ]
  },
  {
   "cell_type": "code",
   "execution_count": 1,
   "metadata": {},
   "outputs": [
    {
     "name": "stdout",
     "output_type": "stream",
     "text": [
      "Defaulting to user installation because normal site-packages is not writeable\n",
      "Requirement already satisfied: openai in c:\\program files\\python311\\lib\\site-packages (0.28.0)\n",
      "Requirement already satisfied: requests>=2.20 in c:\\users\\xavie\\appdata\\roaming\\python\\python311\\site-packages (from openai) (2.31.0)\n",
      "Requirement already satisfied: tqdm in c:\\users\\xavie\\appdata\\roaming\\python\\python311\\site-packages (from openai) (4.65.0)\n",
      "Requirement already satisfied: aiohttp in c:\\users\\xavie\\appdata\\roaming\\python\\python311\\site-packages (from openai) (3.8.4)\n",
      "Requirement already satisfied: charset-normalizer<4,>=2 in c:\\users\\xavie\\appdata\\roaming\\python\\python311\\site-packages (from requests>=2.20->openai) (3.1.0)\n",
      "Requirement already satisfied: idna<4,>=2.5 in c:\\users\\xavie\\appdata\\roaming\\python\\python311\\site-packages (from requests>=2.20->openai) (3.4)\n",
      "Requirement already satisfied: urllib3<3,>=1.21.1 in c:\\users\\xavie\\appdata\\roaming\\python\\python311\\site-packages (from requests>=2.20->openai) (2.0.2)\n",
      "Requirement already satisfied: certifi>=2017.4.17 in c:\\users\\xavie\\appdata\\roaming\\python\\python311\\site-packages (from requests>=2.20->openai) (2023.5.7)\n",
      "Requirement already satisfied: attrs>=17.3.0 in c:\\users\\xavie\\appdata\\roaming\\python\\python311\\site-packages (from aiohttp->openai) (22.2.0)\n",
      "Requirement already satisfied: multidict<7.0,>=4.5 in c:\\users\\xavie\\appdata\\roaming\\python\\python311\\site-packages (from aiohttp->openai) (6.0.4)\n",
      "Requirement already satisfied: async-timeout<5.0,>=4.0.0a3 in c:\\users\\xavie\\appdata\\roaming\\python\\python311\\site-packages (from aiohttp->openai) (4.0.2)\n",
      "Requirement already satisfied: yarl<2.0,>=1.0 in c:\\users\\xavie\\appdata\\roaming\\python\\python311\\site-packages (from aiohttp->openai) (1.9.2)\n",
      "Requirement already satisfied: frozenlist>=1.1.1 in c:\\users\\xavie\\appdata\\roaming\\python\\python311\\site-packages (from aiohttp->openai) (1.3.3)\n",
      "Requirement already satisfied: aiosignal>=1.1.2 in c:\\users\\xavie\\appdata\\roaming\\python\\python311\\site-packages (from aiohttp->openai) (1.3.1)\n",
      "Requirement already satisfied: colorama in c:\\users\\xavie\\appdata\\roaming\\python\\python311\\site-packages (from tqdm->openai) (0.4.6)\n",
      "Note: you may need to restart the kernel to use updated packages.\n"
     ]
    },
    {
     "name": "stderr",
     "output_type": "stream",
     "text": [
      "\n",
      "[notice] A new release of pip available: 22.3.1 -> 23.2.1\n",
      "[notice] To update, run: python.exe -m pip install --upgrade pip\n"
     ]
    }
   ],
   "source": [
    "pip install --upgrade openai"
   ]
  },
  {
   "cell_type": "markdown",
   "metadata": {},
   "source": [
    "## 1. Set OPENAI_API_KEY\n",
    "\n",
    "Using Python code"
   ]
  },
  {
   "cell_type": "code",
   "execution_count": 2,
   "metadata": {},
   "outputs": [],
   "source": [
    "import openai"
   ]
  },
  {
   "cell_type": "code",
   "execution_count": 3,
   "metadata": {},
   "outputs": [],
   "source": [
    "from dotenv import load_dotenv\n",
    "import os\n",
    "\n",
    "# Take the variables from the .env file\n",
    "load_dotenv() \n",
    "\n",
    "# Load variable that contains the API from OpenAI\n",
    "API_KEY = os.environ[\"OPENAI_API\"]\n",
    "\n",
    "openai.api_key = API_KEY"
   ]
  },
  {
   "cell_type": "markdown",
   "metadata": {},
   "source": [
    "As environment variable"
   ]
  },
  {
   "cell_type": "code",
   "execution_count": null,
   "metadata": {},
   "outputs": [],
   "source": [
    "!export OPENAI_API_KEY=\"<OPENAI_API_KEY>\""
   ]
  },
  {
   "cell_type": "markdown",
   "metadata": {},
   "source": [
    "## 2. Prepare training data\n",
    "\n",
    "Convert CSV file to JSONL file using CLI command"
   ]
  },
  {
   "cell_type": "code",
   "execution_count": null,
   "metadata": {},
   "outputs": [],
   "source": [
    "!openai tools fine_tunes.prepare_data -f <LOCAL_FILE>"
   ]
  },
  {
   "cell_type": "markdown",
   "metadata": {},
   "source": [
    "## 3. Create a fine-tuned model\n",
    "\n",
    "Start your fine-tuning job using the OpenAI CLI:"
   ]
  },
  {
   "cell_type": "code",
   "execution_count": null,
   "metadata": {},
   "outputs": [],
   "source": [
    "!openai api fine_tunes.create -t <TRAIN_FILE_ID_OR_PATH> -m <BASE_MODEL>"
   ]
  },
  {
   "cell_type": "markdown",
   "metadata": {},
   "source": [
    "After you've started a fine-tune job, it may take some time to complete. Your job may be queued behind other jobs on our system, and training our model can take minutes or hours depending on the model and dataset size. If the event stream is interrupted for any reason, you can resume it by running:"
   ]
  },
  {
   "cell_type": "code",
   "execution_count": null,
   "metadata": {},
   "outputs": [],
   "source": [
    "!openai api fine_tunes.follow -i <YOUR_FINE_TUNE_JOB_ID>"
   ]
  },
  {
   "cell_type": "markdown",
   "metadata": {},
   "source": [
    "Using Python code. First upload train dataset"
   ]
  },
  {
   "cell_type": "code",
   "execution_count": 19,
   "metadata": {},
   "outputs": [
    {
     "data": {
      "text/plain": [
       "<File file id=file-pMIeIcXJKJM7QOjkVu9OrNBc at 0x206a81677d0> JSON: {\n",
       "  \"object\": \"file\",\n",
       "  \"id\": \"file-pMIeIcXJKJM7QOjkVu9OrNBc\",\n",
       "  \"purpose\": \"fine-tune\",\n",
       "  \"filename\": \"file\",\n",
       "  \"bytes\": 51701,\n",
       "  \"created_at\": 1694987589,\n",
       "  \"status\": \"uploaded\",\n",
       "  \"status_details\": null\n",
       "}"
      ]
     },
     "execution_count": 19,
     "metadata": {},
     "output_type": "execute_result"
    }
   ],
   "source": [
    "# uploading the train dataset\n",
    "openai.File.create(\n",
    "  file=open(\"data_prepared_train.jsonl\", \"rb\"),\n",
    "  purpose='fine-tune'\n",
    ")"
   ]
  },
  {
   "cell_type": "markdown",
   "metadata": {},
   "source": [
    "Then upload validation dataset"
   ]
  },
  {
   "cell_type": "code",
   "execution_count": 5,
   "metadata": {},
   "outputs": [
    {
     "data": {
      "text/plain": [
       "<File file id=file-ikpX0K7C7YEyMGHG4hBOZNsb at 0x206a8166750> JSON: {\n",
       "  \"object\": \"file\",\n",
       "  \"id\": \"file-ikpX0K7C7YEyMGHG4hBOZNsb\",\n",
       "  \"purpose\": \"fine-tune\",\n",
       "  \"filename\": \"file\",\n",
       "  \"bytes\": 12545,\n",
       "  \"created_at\": 1694986169,\n",
       "  \"status\": \"uploaded\",\n",
       "  \"status_details\": null\n",
       "}"
      ]
     },
     "execution_count": 5,
     "metadata": {},
     "output_type": "execute_result"
    }
   ],
   "source": [
    "# uploading the validation dataset\n",
    "openai.File.create(\n",
    "  file=open(\"data_prepared_valid.jsonl\", \"rb\"),\n",
    "  purpose='fine-tune'\n",
    ")"
   ]
  },
  {
   "cell_type": "markdown",
   "metadata": {},
   "source": [
    "Now we will fine-tune the model"
   ]
  },
  {
   "cell_type": "code",
   "execution_count": 20,
   "metadata": {},
   "outputs": [
    {
     "name": "stdout",
     "output_type": "stream",
     "text": [
      "Fine-tunning model with jobID: ft-8Q4A7D7ZpMZ0xH0nv44eqO6t.\n",
      "Training Response: {\n",
      "  \"object\": \"fine-tune\",\n",
      "  \"id\": \"ft-8Q4A7D7ZpMZ0xH0nv44eqO6t\",\n",
      "  \"hyperparams\": {\n",
      "    \"n_epochs\": 3,\n",
      "    \"batch_size\": 4,\n",
      "    \"prompt_loss_weight\": 0.01,\n",
      "    \"learning_rate_multiplier\": 0.01\n",
      "  },\n",
      "  \"organization_id\": \"org-nWYnYxLO4AK96AchxEmHy9Bw\",\n",
      "  \"model\": \"curie\",\n",
      "  \"training_files\": [\n",
      "    {\n",
      "      \"object\": \"file\",\n",
      "      \"id\": \"file-pMIeIcXJKJM7QOjkVu9OrNBc\",\n",
      "      \"purpose\": \"fine-tune\",\n",
      "      \"filename\": \"file\",\n",
      "      \"bytes\": 51701,\n",
      "      \"created_at\": 1694987589,\n",
      "      \"status\": \"uploaded\",\n",
      "      \"status_details\": null\n",
      "    }\n",
      "  ],\n",
      "  \"validation_files\": [\n",
      "    {\n",
      "      \"object\": \"file\",\n",
      "      \"id\": \"file-ikpX0K7C7YEyMGHG4hBOZNsb\",\n",
      "      \"purpose\": \"fine-tune\",\n",
      "      \"filename\": \"file\",\n",
      "      \"bytes\": 12545,\n",
      "      \"created_at\": 1694986169,\n",
      "      \"status\": \"processed\",\n",
      "      \"status_details\": null\n",
      "    }\n",
      "  ],\n",
      "  \"result_files\": [],\n",
      "  \"created_at\": 1694987743,\n",
      "  \"updated_at\": 1694987743,\n",
      "  \"status\": \"pending\",\n",
      "  \"fine_tuned_model\": null,\n",
      "  \"events\": [\n",
      "    {\n",
      "      \"object\": \"fine-tune-event\",\n",
      "      \"level\": \"info\",\n",
      "      \"message\": \"Created fine-tune: ft-8Q4A7D7ZpMZ0xH0nv44eqO6t\",\n",
      "      \"created_at\": 1694987743\n",
      "    }\n",
      "  ]\n",
      "}\n",
      "Training Status: pending\n"
     ]
    }
   ],
   "source": [
    "# call the FineTune API endpoint\n",
    "res = openai.FineTune.create(\n",
    "    # training file ID\n",
    "    training_file =\"file-pMIeIcXJKJM7QOjkVu9OrNBc\",\n",
    "    # validation file ID\n",
    "    validation_file=\"file-ikpX0K7C7YEyMGHG4hBOZNsb\",\n",
    "    # model ID (model must be one of ada, babbage, curie, davinci)\n",
    "    model= \"curie\",\n",
    "    # number of epochs\n",
    "    n_epochs =3,\n",
    "    # batch size to process\n",
    "    batch_size= 4,\n",
    "    # adjust the learning rate of the model\n",
    "    learning_rate_multiplier= 0.1333,\n",
    "    # add a suffix to identify the model\n",
    "    suffix = \"aiBT\"\n",
    ")\n",
    "\n",
    "# storing the job_id of the process\n",
    "jobID = res[\"id\"]\n",
    "# storing the status of the process\n",
    "status = res[\"status\"]\n",
    "\n",
    "# Fine-tunning model with jobID:\n",
    "print(f'Fine-tunning model with jobID: {jobID}.')\n",
    "print(f\"Training Response: {res}\")\n",
    "print(f\"Training Status: {status}\")\n"
   ]
  },
  {
   "cell_type": "markdown",
   "metadata": {},
   "source": [
    "Sometimes the process fails. We can check this in 'status' tag of the response. In 'status_details' we can get more details aout the process. A common error is the string-formatting in prompts or completions. We can check them using print command to see whether the text shows on the screen.\n",
    "\n",
    "After correct any mistake, we have to upload the file(s) again."
   ]
  },
  {
   "cell_type": "code",
   "execution_count": 18,
   "metadata": {},
   "outputs": [
    {
     "name": "stdout",
     "output_type": "stream",
     "text": [
      "Historical Background: paragraph 1: The epic poem Beowulf, written in Old English, is the earliest existing Germanic epic and one of four surviving Anglo-Saxon manuscripts. Although Beowulf was written by an anonymous Englishman in Old English, the tale takes place in that part of Scandinavia from which Germanic tribes emigrated to England. Beowulf comes from Geatland, the southeastern part of what is now Sweden. Hrothgar, king of the Danes, lives near what is now Leire, on Zealand, Denmark's largest island. The Beowulf epic contains three major: tales about Beowulf and several minor tales that reflect a rich Germanic oral tradition of myths, legends, and folklore. paragraph 2: The Beowulf warriors have a foot in both the Bronze and Iron Ages. Their mead-halls reflect the wealthy living of the Bronze Age Northmen, and their wooden shields, wood-shafted spears, and bronze-hilted swords are those of the Bronze Age warrior. However, they carry iron-tipped spears, and their best swords have iron or iron-edged blades. Beowulf also orders an iron shield for his fight with a dragon. Iron replaced bronze because it produced a blade with a cutting edge that was stronger and sharper. The Northmen learned how to forge iron in about 500 s.c. Although they had been superior to the European Celts in bronze work, it was the Celts who taught them how to make and design iron work. Iron was accessible everywhere in Scandinavia, usually in the form of 'bog-iron' found in the layers of peat in peat bogs. paragraph 3: The Beowulf epic also reveals interesting aspects of the lives of the Anglo-Saxons who lived in England at the time of the anonymous Beowulf poet. The Germanic tribes, including the Angles, the Saxons, and the Jutes, invaded England from about A.O. 450 to 600. By the time of the Beowulf poet, Anglo-Saxon society in England was neither primitive nor uncultured. paragraph 4: Although the Beowulf manuscript was written in about A.O. 1000, it was not discovered until the seventeenth century. Scholars do not know whether Beowulf is the sole surviving epic from a flourishing Anglo-Saxon literary period that produced other great epics or whether it was unique even in its own time. Many scholars think that the epic was probably written sometime between the late seventh century and the early ninth century. If they are correct, the original manuscript was probably lost during the ninth-century Viking invasions of Anglia, in which the Danes destroyed the Anglo-Saxon monasteries and their great libraries. However, other scholars think that the poet's favorable attitude toward the Danes must place the epic's composition after the Viking invasions and at the start of the eleventh century, when this Beowulf manuscript was written. paragraph 5: The identity of the Beowulf poet is also uncertain. He apparently was a Christian who loved the pagan heroic tradition of his ancestors and blended the values of the pagan hero with the Christian values of his own country and time. Because he wrote in the Anglian dialect, he probably was either a monk in a monastery or a poet in an Anglo-Saxon court located north of the Thames River. Appeal and Value paragraph 6: Beowulf interests contemporary readers for many reasons. First, it is an outstanding adventure story. Grendel, Grendel's mother, and the dragon are marvelous characters, and each fight is unique, action-packed, and exciting. Second, Beowulf is a very appealing hero. He is the perfect warrior, combining extraordinary strength, skill, courage, and loyalty. Like Hercules, he devotes his life to making the world a safer place. He chooses to risk death in order to help other people, and he faces his inevitable death with heroism and dignity. Third, the Beowulf poet is interested in the psychological aspects of human behavior. For example, the Danish hero's welcoming speech illustrates his jealousy of Beowulf. The behavior of Beowulf's warriors in the dragon fight reveals their cowardice. Beowulf's attitudes toward heroism reflect his maturity and experience, while King Hrothgar's attitudes toward life show the experiences of an aged nobleman. paragraph 7: Finally, the Beowulf poet exhibits a mature appreciation of the transitory nature of human life and achievement. In Beowulf, as in the major epics of other cultures, the hero must create a meaningful life in a world that is often dangerous and uncaring. He must accept the inevitability of death. He chooses to reject despair; instead, he takes pride in himself and in his accomplishments, and he values human relationships.\n"
     ]
    }
   ],
   "source": [
    "print(\"Historical Background: paragraph 1: The epic poem Beowulf, written in Old English, is the earliest existing Germanic epic and one of four surviving Anglo-Saxon manuscripts. Although Beowulf was written by an anonymous Englishman in Old English, the tale takes place in that part of Scandinavia from which Germanic tribes emigrated to England. Beowulf comes from Geatland, the southeastern part of what is now Sweden. Hrothgar, king of the Danes, lives near what is now Leire, on Zealand, Denmark's largest island. The Beowulf epic contains three major: tales about Beowulf and several minor tales that reflect a rich Germanic oral tradition of myths, legends, and folklore. paragraph 2: The Beowulf warriors have a foot in both the Bronze and Iron Ages. Their mead-halls reflect the wealthy living of the Bronze Age Northmen, and their wooden shields, wood-shafted spears, and bronze-hilted swords are those of the Bronze Age warrior. However, they carry iron-tipped spears, and their best swords have iron or iron-edged blades. Beowulf also orders an iron shield for his fight with a dragon. Iron replaced bronze because it produced a blade with a cutting edge that was stronger and sharper. The Northmen learned how to forge iron in about 500 s.c. Although they had been superior to the European Celts in bronze work, it was the Celts who taught them how to make and design iron work. Iron was accessible everywhere in Scandinavia, usually in the form of 'bog-iron' found in the layers of peat in peat bogs. paragraph 3: The Beowulf epic also reveals interesting aspects of the lives of the Anglo-Saxons who lived in England at the time of the anonymous Beowulf poet. The Germanic tribes, including the Angles, the Saxons, and the Jutes, invaded England from about A.O. 450 to 600. By the time of the Beowulf poet, Anglo-Saxon society in England was neither primitive nor uncultured. paragraph 4: Although the Beowulf manuscript was written in about A.O. 1000, it was not discovered until the seventeenth century. Scholars do not know whether Beowulf is the sole surviving epic from a flourishing Anglo-Saxon literary period that produced other great epics or whether it was unique even in its own time. Many scholars think that the epic was probably written sometime between the late seventh century and the early ninth century. If they are correct, the original manuscript was probably lost during the ninth-century Viking invasions of Anglia, in which the Danes destroyed the Anglo-Saxon monasteries and their great libraries. However, other scholars think that the poet's favorable attitude toward the Danes must place the epic's composition after the Viking invasions and at the start of the eleventh century, when this Beowulf manuscript was written. paragraph 5: The identity of the Beowulf poet is also uncertain. He apparently was a Christian who loved the pagan heroic tradition of his ancestors and blended the values of the pagan hero with the Christian values of his own country and time. Because he wrote in the Anglian dialect, he probably was either a monk in a monastery or a poet in an Anglo-Saxon court located north of the Thames River. Appeal and Value paragraph 6: Beowulf interests contemporary readers for many reasons. First, it is an outstanding adventure story. Grendel, Grendel's mother, and the dragon are marvelous characters, and each fight is unique, action-packed, and exciting. Second, Beowulf is a very appealing hero. He is the perfect warrior, combining extraordinary strength, skill, courage, and loyalty. Like Hercules, he devotes his life to making the world a safer place. He chooses to risk death in order to help other people, and he faces his inevitable death with heroism and dignity. Third, the Beowulf poet is interested in the psychological aspects of human behavior. For example, the Danish hero's welcoming speech illustrates his jealousy of Beowulf. The behavior of Beowulf's warriors in the dragon fight reveals their cowardice. Beowulf's attitudes toward heroism reflect his maturity and experience, while King Hrothgar's attitudes toward life show the experiences of an aged nobleman. paragraph 7: Finally, the Beowulf poet exhibits a mature appreciation of the transitory nature of human life and achievement. In Beowulf, as in the major epics of other cultures, the hero must create a meaningful life in a world that is often dangerous and uncaring. He must accept the inevitability of death. He chooses to reject despair; instead, he takes pride in himself and in his accomplishments, and he values human relationships.\")"
   ]
  },
  {
   "cell_type": "markdown",
   "metadata": {},
   "source": [
    "To know the status of your fine-tuning task"
   ]
  },
  {
   "cell_type": "code",
   "execution_count": 34,
   "metadata": {},
   "outputs": [
    {
     "name": "stdout",
     "output_type": "stream",
     "text": [
      "Finetune job ft-8Q4A7D7ZpMZ0xH0nv44eqO6t finished with status: succeeded\n"
     ]
    }
   ],
   "source": [
    "import time\n",
    "# retrieve the status of fine-tuning from OpenAI\n",
    "status = openai.FineTune.retrieve(id=jobID)[\"status\"]\n",
    "\n",
    "# check if status is not \"succeeded\" or \"failed\" \n",
    "if status not in [\"succeeded\", \"failed\"]:\n",
    "  print(f'Job not in terminal status: {status}. Waiting.')\n",
    "else:\n",
    "  print(f'Finetune job {jobID} finished with status: {status}')\n",
    "\n",
    "# also print all the fine-tuning jobs\n",
    "# print('Checking other finetune jobs in the subscription.')\n",
    "# result = openai.FineTune.list()\n",
    "# print(f'Found {len(result.data)} finetune jobs.')"
   ]
  },
  {
   "cell_type": "markdown",
   "metadata": {},
   "source": [
    "## 4. Use a fine-tuned model"
   ]
  },
  {
   "cell_type": "markdown",
   "metadata": {},
   "source": [
    "CLI commands to use the model"
   ]
  },
  {
   "cell_type": "code",
   "execution_count": null,
   "metadata": {},
   "outputs": [],
   "source": [
    "!openai api completions.create -m <FINE_TUNED_MODEL> -p <YOUR_PROMPT>"
   ]
  },
  {
   "cell_type": "markdown",
   "metadata": {},
   "source": [
    "We can check information of the model using the following commands in Python"
   ]
  },
  {
   "cell_type": "code",
   "execution_count": 36,
   "metadata": {},
   "outputs": [
    {
     "name": "stdout",
     "output_type": "stream",
     "text": [
      "curie:ft-personal:aibt-2023-09-17-22-27-34\n"
     ]
    }
   ],
   "source": [
    "result = openai.FineTune.retrieve(id=jobID)\n",
    "fine_tuned_model  = result.fine_tuned_model\n",
    "print(fine_tuned_model)"
   ]
  },
  {
   "cell_type": "markdown",
   "metadata": {},
   "source": [
    "Now is time to use the fine-tuned model!!!"
   ]
  },
  {
   "cell_type": "code",
   "execution_count": 15,
   "metadata": {},
   "outputs": [
    {
     "name": "stdout",
     "output_type": "stream",
     "text": [
      " El Curso de Python para Desarrolladores de Platzi es perfecto para ti. Aprenderás desde cero hasta llegar a ser un experto en este lenguaje de programación y desarrollo. \n"
     ]
    }
   ],
   "source": [
    "# text prompt\n",
    "new_prompt = 'Generate a reading passage about XXXXXXX with TOEFL iBT format ->'\n",
    "\n",
    "# calling the Completion API\n",
    "answer = openai.Completion.create(\n",
    "    # model ID collected from previous step is supposed to be passed here\n",
    "    model=fine_tuned_model,\n",
    "    # text input is passed here\n",
    "    prompt=new_prompt,\n",
    "    # Max tokens used for the completions\n",
    "    max_tokens = 1000,\n",
    "    # In this case, a high temperature is not a good idea\n",
    "    temperature=0.5,\n",
    "    # Stop sequence\n",
    "    stop=[\"END\"]\n",
    ")\n",
    "# displaying the result\n",
    "print(answer['choices'][0]['text'])\n"
   ]
  }
 ],
 "metadata": {
  "kernelspec": {
   "display_name": "Python 3",
   "language": "python",
   "name": "python3"
  },
  "language_info": {
   "codemirror_mode": {
    "name": "ipython",
    "version": 3
   },
   "file_extension": ".py",
   "mimetype": "text/x-python",
   "name": "python",
   "nbconvert_exporter": "python",
   "pygments_lexer": "ipython3",
   "version": "3.11.2"
  },
  "orig_nbformat": 4
 },
 "nbformat": 4,
 "nbformat_minor": 2
}
